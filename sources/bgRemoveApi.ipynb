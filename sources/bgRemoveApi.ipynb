{
 "cells": [
  {
   "cell_type": "code",
   "execution_count": 5,
   "metadata": {},
   "outputs": [],
   "source": [
    "import requests\n",
    "from glob import glob"
   ]
  },
  {
   "cell_type": "code",
   "execution_count": 75,
   "metadata": {},
   "outputs": [],
   "source": [
    "number = 1\n",
    "index = 0\n",
    "src_path = '../Images/rgb_' + str(number)\n",
    "dest_path = '../bg_removed/rgb_' + str(number)\n",
    "API_ENDPOINT = \"https://api.remove.bg/v1.0/removebg\"\n",
    "api_key = 'dKPWF9g4RFoAc1fn9GT9SLmz'"
   ]
  },
  {
   "cell_type": "code",
   "execution_count": 76,
   "metadata": {},
   "outputs": [],
   "source": [
    "img_files = glob(src_path + '/*.jpg')"
   ]
  },
  {
   "cell_type": "code",
   "execution_count": 77,
   "metadata": {},
   "outputs": [],
   "source": [
    "def output_file(response, new_file_name):\n",
    "    with open(new_file_name, 'wb') as removed_bg_file:\n",
    "            removed_bg_file.write(response.content)"
   ]
  },
  {
   "cell_type": "code",
   "execution_count": 78,
   "metadata": {},
   "outputs": [],
   "source": [
    "for img_file_path in img_files:\n",
    "    img_file = open(img_file_path, 'rb')\n",
    "    response = requests.post(\n",
    "        API_ENDPOINT,\n",
    "        files={'image_file': img_file},\n",
    "        data={'size': 'regular','bg_color': \"black\"},headers={'X-Api-Key': api_key})\n",
    "    output_file(response, dest_path + '/rgb_image_' + str(index) + '.jpg')\n",
    "    index += 1"
   ]
  },
  {
   "cell_type": "code",
   "execution_count": null,
   "metadata": {},
   "outputs": [],
   "source": []
  }
 ],
 "metadata": {
  "kernelspec": {
   "display_name": "Python 3",
   "language": "python",
   "name": "python3"
  },
  "language_info": {
   "codemirror_mode": {
    "name": "ipython",
    "version": 3
   },
   "file_extension": ".py",
   "mimetype": "text/x-python",
   "name": "python",
   "nbconvert_exporter": "python",
   "pygments_lexer": "ipython3",
   "version": "3.6.5"
  }
 },
 "nbformat": 4,
 "nbformat_minor": 2
}
