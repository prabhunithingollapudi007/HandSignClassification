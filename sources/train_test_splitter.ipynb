{
 "cells": [
  {
   "cell_type": "code",
   "execution_count": 29,
   "metadata": {},
   "outputs": [],
   "source": [
    "from glob import glob\n",
    "from sklearn.model_selection import train_test_split\n",
    "import os"
   ]
  },
  {
   "cell_type": "code",
   "execution_count": 32,
   "metadata": {},
   "outputs": [],
   "source": [
    "zeros_files = glob('../raw_data/data/depth_rgb_combined_files_0/*.txt')[1:]\n",
    "ones_files = glob('../raw_data/data/depth_rgb_combined_files_1/*.txt')[1:]\n",
    "twos_files = glob('../raw_data/data/depth_rgb_combined_files_2/*.txt')[1:]\n",
    "\n",
    "threes_files = glob('../raw_data/data/depth_rgb_combined_files_3/*.txt')[1:]\n",
    "fours_files = glob('../raw_data/data/depth_rgb_combined_files_4/*.txt')[1:]\n",
    "fives_files = glob('../raw_data/data/depth_rgb_combined_files_5/*.txt')[1:]\n",
    "\n",
    "sixes_files = glob('../raw_data/data/depth_rgb_combined_files_6/*.txt')[1:]\n",
    "sevens_files = glob('../raw_data/data/depth_rgb_combined_files_7/*.txt')[1:]\n",
    "eights_files = glob('../raw_data/data/depth_rgb_combined_files_8/*.txt')[1:]\n",
    "nines_files = glob('../raw_data/data/depth_rgb_combined_files_9/*.txt')[1:]"
   ]
  },
  {
   "cell_type": "code",
   "execution_count": 33,
   "metadata": {},
   "outputs": [],
   "source": [
    "zeros_train, zeros_test = train_test_split(zeros_files, test_size=0.3)\n",
    "ones_train, ones_test = train_test_split(ones_files, test_size=0.3)\n",
    "twos_train, twos_test = train_test_split(twos_files, test_size=0.3)\n",
    "\n",
    "threes_train, threes_test = train_test_split(threes_files, test_size=0.3)\n",
    "fours_train, fours_test = train_test_split(fours_files, test_size=0.3)\n",
    "fives_train, fives_test = train_test_split(fives_files, test_size=0.3)\n",
    "\n",
    "sixes_train, sixes_test = train_test_split(sixes_files, test_size=0.3)\n",
    "sevens_train, sevens_test = train_test_split(sevens_files, test_size=0.3)\n",
    "eights_train, eights_test = train_test_split(eights_files, test_size=0.3)\n",
    "nines_train, nines_test = train_test_split(nines_files, test_size=0.3)"
   ]
  },
  {
   "cell_type": "code",
   "execution_count": 39,
   "metadata": {},
   "outputs": [],
   "source": [
    "from shutil import copyfile, copy"
   ]
  },
  {
   "cell_type": "code",
   "execution_count": 40,
   "metadata": {},
   "outputs": [],
   "source": [
    "def copy_files(files, dest_path):\n",
    "    if(os.path.exists(dest_path) == False):\n",
    "        os.mkdir(dest_path)\n",
    "    for file in files:\n",
    "        copy(file, dest_path)"
   ]
  },
  {
   "cell_type": "code",
   "execution_count": 42,
   "metadata": {},
   "outputs": [
    {
     "data": {
      "text/plain": [
       "['../raw_data/data/depth_rgb_combined_files_0\\\\combined_value_14.txt',\n",
       " '../raw_data/data/depth_rgb_combined_files_0\\\\combined_value_3.txt',\n",
       " '../raw_data/data/depth_rgb_combined_files_0\\\\combined_value_11.txt',\n",
       " '../raw_data/data/depth_rgb_combined_files_0\\\\combined_value_15.txt',\n",
       " '../raw_data/data/depth_rgb_combined_files_0\\\\combined_value_2.txt',\n",
       " '../raw_data/data/depth_rgb_combined_files_0\\\\combined_value_12.txt',\n",
       " '../raw_data/data/depth_rgb_combined_files_0\\\\combined_value_5.txt',\n",
       " '../raw_data/data/depth_rgb_combined_files_0\\\\combined_value_13.txt',\n",
       " '../raw_data/data/depth_rgb_combined_files_0\\\\combined_value_8.txt',\n",
       " '../raw_data/data/depth_rgb_combined_files_0\\\\combined_value_6.txt']"
      ]
     },
     "execution_count": 42,
     "metadata": {},
     "output_type": "execute_result"
    }
   ],
   "source": [
    "zeros_train"
   ]
  },
  {
   "cell_type": "code",
   "execution_count": 41,
   "metadata": {},
   "outputs": [],
   "source": [
    "copy_files(zeros_train, '../raw_data/data/train/Zero')"
   ]
  },
  {
   "cell_type": "code",
   "execution_count": 43,
   "metadata": {},
   "outputs": [],
   "source": [
    "copy_files(ones_train, '../raw_data/data/train/One')\n",
    "copy_files(twos_train, '../raw_data/data/train/Two')\n",
    "copy_files(threes_train, '../raw_data/data/train/Three')\n",
    "\n",
    "copy_files(fours_train, '../raw_data/data/train/Four')\n",
    "copy_files(fives_train, '../raw_data/data/train/Five')\n",
    "copy_files(sixes_train, '../raw_data/data/train/Six')\n",
    "\n",
    "copy_files(sevens_train, '../raw_data/data/train/Seven')\n",
    "copy_files(eights_train, '../raw_data/data/train/Eight')\n",
    "copy_files(nines_train, '../raw_data/data/train/Nine')"
   ]
  },
  {
   "cell_type": "code",
   "execution_count": 44,
   "metadata": {},
   "outputs": [
    {
     "data": {
      "text/plain": [
       "['../raw_data/data/depth_rgb_combined_files_8\\\\combined_value_1.txt',\n",
       " '../raw_data/data/depth_rgb_combined_files_8\\\\combined_value_6.txt',\n",
       " '../raw_data/data/depth_rgb_combined_files_8\\\\combined_value_2.txt',\n",
       " '../raw_data/data/depth_rgb_combined_files_8\\\\combined_value_9.txt',\n",
       " '../raw_data/data/depth_rgb_combined_files_8\\\\combined_value_10.txt',\n",
       " '../raw_data/data/depth_rgb_combined_files_8\\\\combined_value_3.txt',\n",
       " '../raw_data/data/depth_rgb_combined_files_8\\\\combined_value_11.txt',\n",
       " '../raw_data/data/depth_rgb_combined_files_8\\\\combined_value_12.txt',\n",
       " '../raw_data/data/depth_rgb_combined_files_8\\\\combined_value_14.txt',\n",
       " '../raw_data/data/depth_rgb_combined_files_8\\\\combined_value_4.txt']"
      ]
     },
     "execution_count": 44,
     "metadata": {},
     "output_type": "execute_result"
    }
   ],
   "source": [
    "eights_train"
   ]
  },
  {
   "cell_type": "code",
   "execution_count": 45,
   "metadata": {},
   "outputs": [],
   "source": [
    "copy_files(zeros_test, '../raw_data/data/test/Zero')\n",
    "copy_files(ones_test, '../raw_data/data/test/One')\n",
    "copy_files(twos_test, '../raw_data/data/test/Two')\n",
    "copy_files(threes_test, '../raw_data/data/test/Three')\n",
    "\n",
    "copy_files(fours_test, '../raw_data/data/test/Four')\n",
    "copy_files(fives_test, '../raw_data/data/test/Five')\n",
    "copy_files(sixes_test, '../raw_data/data/test/Six')\n",
    "\n",
    "copy_files(sevens_test, '../raw_data/data/test/Seven')\n",
    "copy_files(eights_test, '../raw_data/data/test/Eight')\n",
    "copy_files(nines_test, '../raw_data/data/test/Nine')"
   ]
  },
  {
   "cell_type": "code",
   "execution_count": null,
   "metadata": {},
   "outputs": [],
   "source": []
  }
 ],
 "metadata": {
  "kernelspec": {
   "display_name": "Python 3",
   "language": "python",
   "name": "python3"
  },
  "language_info": {
   "codemirror_mode": {
    "name": "ipython",
    "version": 3
   },
   "file_extension": ".py",
   "mimetype": "text/x-python",
   "name": "python",
   "nbconvert_exporter": "python",
   "pygments_lexer": "ipython3",
   "version": "3.6.5"
  }
 },
 "nbformat": 4,
 "nbformat_minor": 2
}
