{
 "cells": [
  {
   "cell_type": "code",
   "execution_count": 1,
   "metadata": {},
   "outputs": [],
   "source": [
    "import numpy as np\n",
    "import pandas as pd\n",
    "import matplotlib.pyplot as plt\n",
    "from PIL import Image\n",
    "import os"
   ]
  },
  {
   "cell_type": "code",
   "execution_count": 2,
   "metadata": {},
   "outputs": [],
   "source": [
    "def get_data_array(src_path, current_depth_file):\n",
    "    data_array = np.empty(307200)\n",
    "    with open(src_path + \"/depth_value_\" + current_depth_file + \".txt\") as src_file:\n",
    "        for index, line in enumerate(src_file.readlines()):\n",
    "            data_array[index] = float(line.split()[0])\n",
    "    return data_array"
   ]
  },
  {
   "cell_type": "code",
   "execution_count": 11,
   "metadata": {},
   "outputs": [],
   "source": [
    "def save_image(dest_path, data_array, current_depth_file):\n",
    "    max_value = np.amax(data_array)\n",
    "    data_array = (data_array / max_value) * 255\n",
    "    data_array = np.reshape(data_array, (480, 640))\n",
    "    bgImg = Image.fromarray(data_array).convert(\"L\")\n",
    "    bgImg.save(dest_path + \"/img_from_depth_\" + current_depth_file + \".jpg\")"
   ]
  },
  {
   "cell_type": "code",
   "execution_count": 12,
   "metadata": {},
   "outputs": [],
   "source": [
    "for iter_var in range(10):\n",
    "    current_file_index = str(iter_var)\n",
    "    src_path = \"../raw_data/data/depth_only_files_\" + str(current_file_index)\n",
    "    dest_path = \"../raw_data/data/depth_to_img_files_\" + str(current_file_index)\n",
    "    if (os.path.exists(dest_path)) != True:\n",
    "        os.mkdir(dest_path)\n",
    "    for i in range(16):\n",
    "        current_depth_file = str(i)\n",
    "        data_array = get_data_array(src_path, current_depth_file)\n",
    "        save_image(dest_path, data_array, current_depth_file)"
   ]
  }
 ],
 "metadata": {
  "kernelspec": {
   "display_name": "Python 3",
   "language": "python",
   "name": "python3"
  },
  "language_info": {
   "codemirror_mode": {
    "name": "ipython",
    "version": 3
   },
   "file_extension": ".py",
   "mimetype": "text/x-python",
   "name": "python",
   "nbconvert_exporter": "python",
   "pygments_lexer": "ipython3",
   "version": "3.6.5"
  }
 },
 "nbformat": 4,
 "nbformat_minor": 2
}
