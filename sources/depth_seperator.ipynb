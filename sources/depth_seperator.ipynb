{
 "cells": [
  {
   "cell_type": "code",
   "execution_count": 1,
   "metadata": {},
   "outputs": [],
   "source": [
    "import os"
   ]
  },
  {
   "cell_type": "code",
   "execution_count": 9,
   "metadata": {},
   "outputs": [],
   "source": [
    "for iter_var in range(1, 10):\n",
    "current_file_index = str(iter_var)\n",
    "    src_path = \"../raw_data/data/files_\" + str(current_file_index)\n",
    "    dest_path = \"../raw_data/data/depth_only_files_\" + str(current_file_index)\n",
    "    if (os.path.exists(dest_path)) != True:\n",
    "        os.mkdir(dest_path)\n",
    "    for i in range(16):\n",
    "        current_depth_file = str(i)\n",
    "        with open(src_path + \"/depth_value_\" + current_depth_file + \".txt\") as src_file:\n",
    "            with open(dest_path + \"/depth_value_\" + current_depth_file + \".txt\", \"w\") as dest_file:\n",
    "                for line in src_file.readlines():\n",
    "                    temp_depth_value = float(line.split()[2])\n",
    "                    dest_file.write(str(temp_depth_value) + \"\\n\")"
   ]
  },
  {
   "cell_type": "code",
   "execution_count": 8,
   "metadata": {},
   "outputs": [],
   "source": []
  },
  {
   "cell_type": "code",
   "execution_count": null,
   "metadata": {},
   "outputs": [],
   "source": []
  }
 ],
 "metadata": {
  "kernelspec": {
   "display_name": "Python 3",
   "language": "python",
   "name": "python3"
  },
  "language_info": {
   "codemirror_mode": {
    "name": "ipython",
    "version": 3
   },
   "file_extension": ".py",
   "mimetype": "text/x-python",
   "name": "python",
   "nbconvert_exporter": "python",
   "pygments_lexer": "ipython3",
   "version": "3.6.5"
  }
 },
 "nbformat": 4,
 "nbformat_minor": 2
}
