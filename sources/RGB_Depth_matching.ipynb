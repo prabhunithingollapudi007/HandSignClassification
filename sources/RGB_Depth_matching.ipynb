{
 "cells": [
  {
   "cell_type": "code",
   "execution_count": 43,
   "metadata": {},
   "outputs": [],
   "source": [
    "def rawDepthToMeters(depth_value):\n",
    "    if depth_value < 2047:\n",
    "        return 1 / ((depth_value) * (-0.0030711016) + 3.3309495161) \n",
    "    return 0"
   ]
  },
  {
   "cell_type": "code",
   "execution_count": 52,
   "metadata": {},
   "outputs": [],
   "source": [
    "for current_depth_folder_index in [\"5\", \"6\", \"7\", \"8\", \"9\"]:\n",
    "    current_depth_folder = current_depth_folder_index\n",
    "    path_to_depth_file = \"../raw_data/data/files_\" + current_depth_folder + \"/\"\n",
    "    destination_path = \"../raw_data/data/files_real_depth_\" + current_depth_folder + \"/\"\n",
    "\n",
    "    for i in range(1, 16):\n",
    "\n",
    "        current_depth_file = str(i)\n",
    "\n",
    "        with open(path_to_depth_file + \"depth_value_\" + current_depth_file + \".txt\") as src_file:\n",
    "            with open(destination_path + \"depth_value_\" + current_depth_file + \".txt\", \"w\") as dest_file:\n",
    "                for line in src_file.readlines():\n",
    "                    temp_depth_value = float(line.split()[2])\n",
    "                    dest_file.write(str(rawDepthToMeters(temp_depth_value)) + \"\\n\")"
   ]
  },
  {
   "cell_type": "code",
   "execution_count": 46,
   "metadata": {},
   "outputs": [],
   "source": []
  },
  {
   "cell_type": "code",
   "execution_count": 14,
   "metadata": {},
   "outputs": [
    {
     "name": "stdout",
     "output_type": "stream",
     "text": [
      "-0.33869322617434156\n"
     ]
    }
   ],
   "source": []
  },
  {
   "cell_type": "code",
   "execution_count": null,
   "metadata": {},
   "outputs": [],
   "source": []
  }
 ],
 "metadata": {
  "kernelspec": {
   "display_name": "Python 3",
   "language": "python",
   "name": "python3"
  },
  "language_info": {
   "codemirror_mode": {
    "name": "ipython",
    "version": 3
   },
   "file_extension": ".py",
   "mimetype": "text/x-python",
   "name": "python",
   "nbconvert_exporter": "python",
   "pygments_lexer": "ipython3",
   "version": "3.6.5"
  }
 },
 "nbformat": 4,
 "nbformat_minor": 2
}
